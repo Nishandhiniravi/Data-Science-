{
 "cells": [
  {
   "cell_type": "markdown",
   "id": "2603c137",
   "metadata": {},
   "source": [
    "***Netflix Movie Data Analysis***"
   ]
  },
  {
   "cell_type": "code",
   "execution_count": 2,
   "id": "98f7fdb2",
   "metadata": {},
   "outputs": [],
   "source": [
    "import pandas as pd\n",
    "import matplotlib.pyplot as plt\n",
    "import seaborn as sns\n",
    "\n",
    "df = pd.read_csv(\"C:/Users/NishaEzhil/Downloads/Netflix.zip\")"
   ]
  },
  {
   "cell_type": "code",
   "execution_count": 4,
   "id": "32fa24a1",
   "metadata": {},
   "outputs": [
    {
     "data": {
      "text/html": [
       "<div>\n",
       "<style scoped>\n",
       "    .dataframe tbody tr th:only-of-type {\n",
       "        vertical-align: middle;\n",
       "    }\n",
       "\n",
       "    .dataframe tbody tr th {\n",
       "        vertical-align: top;\n",
       "    }\n",
       "\n",
       "    .dataframe thead th {\n",
       "        text-align: right;\n",
       "    }\n",
       "</style>\n",
       "<table border=\"1\" class=\"dataframe\">\n",
       "  <thead>\n",
       "    <tr style=\"text-align: right;\">\n",
       "      <th></th>\n",
       "      <th>show_id</th>\n",
       "      <th>type</th>\n",
       "      <th>title</th>\n",
       "      <th>director</th>\n",
       "      <th>cast</th>\n",
       "      <th>country</th>\n",
       "      <th>date_added</th>\n",
       "      <th>release_year</th>\n",
       "      <th>rating</th>\n",
       "      <th>duration</th>\n",
       "      <th>genres</th>\n",
       "      <th>description</th>\n",
       "    </tr>\n",
       "  </thead>\n",
       "  <tbody>\n",
       "    <tr>\n",
       "      <th>0</th>\n",
       "      <td>s1</td>\n",
       "      <td>TV Show</td>\n",
       "      <td>3%</td>\n",
       "      <td>NaN</td>\n",
       "      <td>João Miguel, Bianca Comparato, Michel Gomes, R...</td>\n",
       "      <td>Brazil</td>\n",
       "      <td>14-Aug-20</td>\n",
       "      <td>2020</td>\n",
       "      <td>TV-MA</td>\n",
       "      <td>4</td>\n",
       "      <td>International TV Shows, TV Dramas, TV Sci-Fi &amp;...</td>\n",
       "      <td>In a future where the elite inhabit an island ...</td>\n",
       "    </tr>\n",
       "    <tr>\n",
       "      <th>1</th>\n",
       "      <td>s10</td>\n",
       "      <td>Movie</td>\n",
       "      <td>1920</td>\n",
       "      <td>Vikram Bhatt</td>\n",
       "      <td>Rajneesh Duggal, Adah Sharma, Indraneil Sengup...</td>\n",
       "      <td>India</td>\n",
       "      <td>15-Dec-17</td>\n",
       "      <td>2008</td>\n",
       "      <td>TV-MA</td>\n",
       "      <td>143</td>\n",
       "      <td>Horror Movies, International Movies, Thrillers</td>\n",
       "      <td>An architect and his wife move into a castle t...</td>\n",
       "    </tr>\n",
       "    <tr>\n",
       "      <th>2</th>\n",
       "      <td>s100</td>\n",
       "      <td>Movie</td>\n",
       "      <td>3 Heroines</td>\n",
       "      <td>Iman Brotoseno</td>\n",
       "      <td>Reza Rahadian, Bunga Citra Lestari, Tara Basro...</td>\n",
       "      <td>Indonesia</td>\n",
       "      <td>5-Jan-19</td>\n",
       "      <td>2016</td>\n",
       "      <td>TV-PG</td>\n",
       "      <td>124</td>\n",
       "      <td>Dramas, International Movies, Sports Movies</td>\n",
       "      <td>Three Indonesian women break records by becomi...</td>\n",
       "    </tr>\n",
       "    <tr>\n",
       "      <th>3</th>\n",
       "      <td>s1000</td>\n",
       "      <td>Movie</td>\n",
       "      <td>Blue Mountain State: The Rise of Thadland</td>\n",
       "      <td>Lev L. Spiro</td>\n",
       "      <td>Alan Ritchson, Darin Brooks, James Cade, Rob R...</td>\n",
       "      <td>United States</td>\n",
       "      <td>1-Mar-16</td>\n",
       "      <td>2016</td>\n",
       "      <td>R</td>\n",
       "      <td>90</td>\n",
       "      <td>Comedies</td>\n",
       "      <td>New NFL star Thad buys his old teammates' belo...</td>\n",
       "    </tr>\n",
       "    <tr>\n",
       "      <th>4</th>\n",
       "      <td>s1001</td>\n",
       "      <td>TV Show</td>\n",
       "      <td>Blue Planet II</td>\n",
       "      <td>NaN</td>\n",
       "      <td>David Attenborough</td>\n",
       "      <td>United Kingdom</td>\n",
       "      <td>3-Dec-18</td>\n",
       "      <td>2017</td>\n",
       "      <td>TV-G</td>\n",
       "      <td>1</td>\n",
       "      <td>British TV Shows, Docuseries, Science &amp; Nature TV</td>\n",
       "      <td>This sequel to the award-winning nature series...</td>\n",
       "    </tr>\n",
       "  </tbody>\n",
       "</table>\n",
       "</div>"
      ],
      "text/plain": [
       "  show_id     type                                      title        director  \\\n",
       "0      s1  TV Show                                         3%             NaN   \n",
       "1     s10    Movie                                       1920    Vikram Bhatt   \n",
       "2    s100    Movie                                 3 Heroines  Iman Brotoseno   \n",
       "3   s1000    Movie  Blue Mountain State: The Rise of Thadland    Lev L. Spiro   \n",
       "4   s1001  TV Show                             Blue Planet II             NaN   \n",
       "\n",
       "                                                cast         country  \\\n",
       "0  João Miguel, Bianca Comparato, Michel Gomes, R...          Brazil   \n",
       "1  Rajneesh Duggal, Adah Sharma, Indraneil Sengup...           India   \n",
       "2  Reza Rahadian, Bunga Citra Lestari, Tara Basro...       Indonesia   \n",
       "3  Alan Ritchson, Darin Brooks, James Cade, Rob R...   United States   \n",
       "4                                 David Attenborough  United Kingdom   \n",
       "\n",
       "  date_added  release_year rating  duration  \\\n",
       "0  14-Aug-20          2020  TV-MA         4   \n",
       "1  15-Dec-17          2008  TV-MA       143   \n",
       "2   5-Jan-19          2016  TV-PG       124   \n",
       "3   1-Mar-16          2016      R        90   \n",
       "4   3-Dec-18          2017   TV-G         1   \n",
       "\n",
       "                                              genres  \\\n",
       "0  International TV Shows, TV Dramas, TV Sci-Fi &...   \n",
       "1     Horror Movies, International Movies, Thrillers   \n",
       "2        Dramas, International Movies, Sports Movies   \n",
       "3                                           Comedies   \n",
       "4  British TV Shows, Docuseries, Science & Nature TV   \n",
       "\n",
       "                                         description  \n",
       "0  In a future where the elite inhabit an island ...  \n",
       "1  An architect and his wife move into a castle t...  \n",
       "2  Three Indonesian women break records by becomi...  \n",
       "3  New NFL star Thad buys his old teammates' belo...  \n",
       "4  This sequel to the award-winning nature series...  "
      ]
     },
     "execution_count": 4,
     "metadata": {},
     "output_type": "execute_result"
    }
   ],
   "source": [
    "df.head()"
   ]
  },
  {
   "cell_type": "code",
   "execution_count": 5,
   "id": "46ef09e0",
   "metadata": {},
   "outputs": [
    {
     "data": {
      "text/html": [
       "<div>\n",
       "<style scoped>\n",
       "    .dataframe tbody tr th:only-of-type {\n",
       "        vertical-align: middle;\n",
       "    }\n",
       "\n",
       "    .dataframe tbody tr th {\n",
       "        vertical-align: top;\n",
       "    }\n",
       "\n",
       "    .dataframe thead th {\n",
       "        text-align: right;\n",
       "    }\n",
       "</style>\n",
       "<table border=\"1\" class=\"dataframe\">\n",
       "  <thead>\n",
       "    <tr style=\"text-align: right;\">\n",
       "      <th></th>\n",
       "      <th>show_id</th>\n",
       "      <th>type</th>\n",
       "      <th>title</th>\n",
       "      <th>director</th>\n",
       "      <th>cast</th>\n",
       "      <th>country</th>\n",
       "      <th>date_added</th>\n",
       "      <th>release_year</th>\n",
       "      <th>rating</th>\n",
       "      <th>duration</th>\n",
       "      <th>genres</th>\n",
       "      <th>description</th>\n",
       "    </tr>\n",
       "  </thead>\n",
       "  <tbody>\n",
       "    <tr>\n",
       "      <th>7782</th>\n",
       "      <td>s995</td>\n",
       "      <td>TV Show</td>\n",
       "      <td>Blown Away</td>\n",
       "      <td>NaN</td>\n",
       "      <td>NaN</td>\n",
       "      <td>Canada</td>\n",
       "      <td>12-Jul-19</td>\n",
       "      <td>2019</td>\n",
       "      <td>TV-14</td>\n",
       "      <td>1</td>\n",
       "      <td>International TV Shows, Reality TV</td>\n",
       "      <td>Ten master artists turn up the heat in glassbl...</td>\n",
       "    </tr>\n",
       "    <tr>\n",
       "      <th>7783</th>\n",
       "      <td>s996</td>\n",
       "      <td>TV Show</td>\n",
       "      <td>Blue Exorcist</td>\n",
       "      <td>NaN</td>\n",
       "      <td>Nobuhiko Okamoto, Jun Fukuyama, Kana Hanazawa,...</td>\n",
       "      <td>Japan</td>\n",
       "      <td>1-Sep-20</td>\n",
       "      <td>2017</td>\n",
       "      <td>TV-MA</td>\n",
       "      <td>2</td>\n",
       "      <td>Anime Series, International TV Shows</td>\n",
       "      <td>Determined to throw off the curse of being Sat...</td>\n",
       "    </tr>\n",
       "    <tr>\n",
       "      <th>7784</th>\n",
       "      <td>s997</td>\n",
       "      <td>Movie</td>\n",
       "      <td>Blue Is the Warmest Color</td>\n",
       "      <td>Abdellatif Kechiche</td>\n",
       "      <td>Léa Seydoux, Adèle Exarchopoulos, Salim Kechio...</td>\n",
       "      <td>France, Belgium, Spain</td>\n",
       "      <td>26-Aug-16</td>\n",
       "      <td>2013</td>\n",
       "      <td>NC-17</td>\n",
       "      <td>180</td>\n",
       "      <td>Dramas, Independent Movies, International Movies</td>\n",
       "      <td>Determined to fall in love, 15-year-old Adele ...</td>\n",
       "    </tr>\n",
       "    <tr>\n",
       "      <th>7785</th>\n",
       "      <td>s998</td>\n",
       "      <td>Movie</td>\n",
       "      <td>Blue Jasmine</td>\n",
       "      <td>Woody Allen</td>\n",
       "      <td>Cate Blanchett, Sally Hawkins, Alec Baldwin, L...</td>\n",
       "      <td>United States</td>\n",
       "      <td>8-Mar-19</td>\n",
       "      <td>2013</td>\n",
       "      <td>PG-13</td>\n",
       "      <td>98</td>\n",
       "      <td>Comedies, Dramas, Independent Movies</td>\n",
       "      <td>The high life leads to high anxiety for a fash...</td>\n",
       "    </tr>\n",
       "    <tr>\n",
       "      <th>7786</th>\n",
       "      <td>s999</td>\n",
       "      <td>Movie</td>\n",
       "      <td>Blue Jay</td>\n",
       "      <td>Alex Lehmann</td>\n",
       "      <td>Sarah Paulson, Mark Duplass, Clu Gulager</td>\n",
       "      <td>United States</td>\n",
       "      <td>6-Dec-16</td>\n",
       "      <td>2016</td>\n",
       "      <td>TV-MA</td>\n",
       "      <td>81</td>\n",
       "      <td>Dramas, Independent Movies, Romantic Movies</td>\n",
       "      <td>Two former high school sweethearts unexpectedl...</td>\n",
       "    </tr>\n",
       "  </tbody>\n",
       "</table>\n",
       "</div>"
      ],
      "text/plain": [
       "     show_id     type                      title             director  \\\n",
       "7782    s995  TV Show                 Blown Away                  NaN   \n",
       "7783    s996  TV Show              Blue Exorcist                  NaN   \n",
       "7784    s997    Movie  Blue Is the Warmest Color  Abdellatif Kechiche   \n",
       "7785    s998    Movie               Blue Jasmine          Woody Allen   \n",
       "7786    s999    Movie                   Blue Jay         Alex Lehmann   \n",
       "\n",
       "                                                   cast  \\\n",
       "7782                                                NaN   \n",
       "7783  Nobuhiko Okamoto, Jun Fukuyama, Kana Hanazawa,...   \n",
       "7784  Léa Seydoux, Adèle Exarchopoulos, Salim Kechio...   \n",
       "7785  Cate Blanchett, Sally Hawkins, Alec Baldwin, L...   \n",
       "7786           Sarah Paulson, Mark Duplass, Clu Gulager   \n",
       "\n",
       "                     country date_added  release_year rating  duration  \\\n",
       "7782                  Canada  12-Jul-19          2019  TV-14         1   \n",
       "7783                   Japan   1-Sep-20          2017  TV-MA         2   \n",
       "7784  France, Belgium, Spain  26-Aug-16          2013  NC-17       180   \n",
       "7785           United States   8-Mar-19          2013  PG-13        98   \n",
       "7786           United States   6-Dec-16          2016  TV-MA        81   \n",
       "\n",
       "                                                genres  \\\n",
       "7782                International TV Shows, Reality TV   \n",
       "7783              Anime Series, International TV Shows   \n",
       "7784  Dramas, Independent Movies, International Movies   \n",
       "7785              Comedies, Dramas, Independent Movies   \n",
       "7786       Dramas, Independent Movies, Romantic Movies   \n",
       "\n",
       "                                            description  \n",
       "7782  Ten master artists turn up the heat in glassbl...  \n",
       "7783  Determined to throw off the curse of being Sat...  \n",
       "7784  Determined to fall in love, 15-year-old Adele ...  \n",
       "7785  The high life leads to high anxiety for a fash...  \n",
       "7786  Two former high school sweethearts unexpectedl...  "
      ]
     },
     "execution_count": 5,
     "metadata": {},
     "output_type": "execute_result"
    }
   ],
   "source": [
    "df.tail()"
   ]
  },
  {
   "cell_type": "code",
   "execution_count": 6,
   "id": "5bf62354",
   "metadata": {},
   "outputs": [
    {
     "name": "stdout",
     "output_type": "stream",
     "text": [
      "<class 'pandas.core.frame.DataFrame'>\n",
      "RangeIndex: 7787 entries, 0 to 7786\n",
      "Data columns (total 12 columns):\n",
      " #   Column        Non-Null Count  Dtype \n",
      "---  ------        --------------  ----- \n",
      " 0   show_id       7787 non-null   object\n",
      " 1   type          7787 non-null   object\n",
      " 2   title         7787 non-null   object\n",
      " 3   director      5398 non-null   object\n",
      " 4   cast          7069 non-null   object\n",
      " 5   country       7280 non-null   object\n",
      " 6   date_added    7777 non-null   object\n",
      " 7   release_year  7787 non-null   int64 \n",
      " 8   rating        7780 non-null   object\n",
      " 9   duration      7787 non-null   int64 \n",
      " 10  genres        7787 non-null   object\n",
      " 11  description   7787 non-null   object\n",
      "dtypes: int64(2), object(10)\n",
      "memory usage: 730.2+ KB\n"
     ]
    }
   ],
   "source": [
    "df.info()"
   ]
  },
  {
   "cell_type": "code",
   "execution_count": 7,
   "id": "b383492e",
   "metadata": {},
   "outputs": [
    {
     "data": {
      "text/html": [
       "<div>\n",
       "<style scoped>\n",
       "    .dataframe tbody tr th:only-of-type {\n",
       "        vertical-align: middle;\n",
       "    }\n",
       "\n",
       "    .dataframe tbody tr th {\n",
       "        vertical-align: top;\n",
       "    }\n",
       "\n",
       "    .dataframe thead th {\n",
       "        text-align: right;\n",
       "    }\n",
       "</style>\n",
       "<table border=\"1\" class=\"dataframe\">\n",
       "  <thead>\n",
       "    <tr style=\"text-align: right;\">\n",
       "      <th></th>\n",
       "      <th>release_year</th>\n",
       "      <th>duration</th>\n",
       "    </tr>\n",
       "  </thead>\n",
       "  <tbody>\n",
       "    <tr>\n",
       "      <th>count</th>\n",
       "      <td>7787.000000</td>\n",
       "      <td>7787.000000</td>\n",
       "    </tr>\n",
       "    <tr>\n",
       "      <th>mean</th>\n",
       "      <td>2013.932580</td>\n",
       "      <td>69.122769</td>\n",
       "    </tr>\n",
       "    <tr>\n",
       "      <th>std</th>\n",
       "      <td>8.757395</td>\n",
       "      <td>50.950743</td>\n",
       "    </tr>\n",
       "    <tr>\n",
       "      <th>min</th>\n",
       "      <td>1925.000000</td>\n",
       "      <td>1.000000</td>\n",
       "    </tr>\n",
       "    <tr>\n",
       "      <th>25%</th>\n",
       "      <td>2013.000000</td>\n",
       "      <td>2.000000</td>\n",
       "    </tr>\n",
       "    <tr>\n",
       "      <th>50%</th>\n",
       "      <td>2017.000000</td>\n",
       "      <td>88.000000</td>\n",
       "    </tr>\n",
       "    <tr>\n",
       "      <th>75%</th>\n",
       "      <td>2018.000000</td>\n",
       "      <td>106.000000</td>\n",
       "    </tr>\n",
       "    <tr>\n",
       "      <th>max</th>\n",
       "      <td>2021.000000</td>\n",
       "      <td>312.000000</td>\n",
       "    </tr>\n",
       "  </tbody>\n",
       "</table>\n",
       "</div>"
      ],
      "text/plain": [
       "       release_year     duration\n",
       "count   7787.000000  7787.000000\n",
       "mean    2013.932580    69.122769\n",
       "std        8.757395    50.950743\n",
       "min     1925.000000     1.000000\n",
       "25%     2013.000000     2.000000\n",
       "50%     2017.000000    88.000000\n",
       "75%     2018.000000   106.000000\n",
       "max     2021.000000   312.000000"
      ]
     },
     "execution_count": 7,
     "metadata": {},
     "output_type": "execute_result"
    }
   ],
   "source": [
    "df.describe()"
   ]
  },
  {
   "cell_type": "code",
   "execution_count": 8,
   "id": "0da5b593",
   "metadata": {},
   "outputs": [
    {
     "data": {
      "text/plain": [
       "Index(['show_id', 'type', 'title', 'director', 'cast', 'country', 'date_added',\n",
       "       'release_year', 'rating', 'duration', 'genres', 'description'],\n",
       "      dtype='object')"
      ]
     },
     "execution_count": 8,
     "metadata": {},
     "output_type": "execute_result"
    }
   ],
   "source": [
    "df.columns"
   ]
  },
  {
   "cell_type": "code",
   "execution_count": 10,
   "id": "075a097d",
   "metadata": {},
   "outputs": [
    {
     "data": {
      "text/plain": [
       "show_id            0\n",
       "type               0\n",
       "title              0\n",
       "director        2389\n",
       "cast             718\n",
       "country          507\n",
       "date_added        10\n",
       "release_year       0\n",
       "rating             7\n",
       "duration           0\n",
       "genres             0\n",
       "description        0\n",
       "dtype: int64"
      ]
     },
     "execution_count": 10,
     "metadata": {},
     "output_type": "execute_result"
    }
   ],
   "source": [
    "df.isnull().sum()"
   ]
  },
  {
   "cell_type": "code",
   "execution_count": 11,
   "id": "1dacfd0b",
   "metadata": {},
   "outputs": [],
   "source": [
    "df.drop_duplicates(inplace=True)"
   ]
  },
  {
   "cell_type": "markdown",
   "id": "31c5840b",
   "metadata": {},
   "source": [
    "Count Movie By Genere and Release Year"
   ]
  },
  {
   "cell_type": "code",
   "execution_count": null,
   "id": "0a6272ad",
   "metadata": {},
   "outputs": [],
   "source": [
    "from collections import Counter\n",
    "\n",
    "movies_data = df[df['type'] == 'Movie']\n",
    "movies_data = df[df['type'] == 'Movie']\n",
    "\n",
    "genre_series = movies_data['genres'].dropna().str.split(', ')\n",
    "all_genres = [genre for sublist in genre_series for genre in sublist]\n",
    "genre_counts = Counter(all_genres)"
   ]
  },
  {
   "cell_type": "code",
   "execution_count": 17,
   "id": "e9b424d5",
   "metadata": {},
   "outputs": [],
   "source": [
    "genre_df = pd.DataFrame(genre_counts.items(), columns=['Genre', 'Count'])\n",
    "genre_df = genre_df.sort_values(by='Count', ascending=False)"
   ]
  },
  {
   "cell_type": "code",
   "execution_count": 35,
   "id": "bb5be755",
   "metadata": {},
   "outputs": [
    {
     "data": {
      "text/plain": [
       "type\n",
       "Movie      5377\n",
       "TV Show    2410\n",
       "Name: count, dtype: int64"
      ]
     },
     "execution_count": 35,
     "metadata": {},
     "output_type": "execute_result"
    }
   ],
   "source": [
    "df.value_counts('type')\n"
   ]
  },
  {
   "cell_type": "code",
   "execution_count": 40,
   "id": "a030e38e",
   "metadata": {},
   "outputs": [
    {
     "name": "stdout",
     "output_type": "stream",
     "text": [
      "                genre  release_year  count\n",
      "0  Action & Adventure          1956      1\n",
      "1  Action & Adventure          1960      2\n",
      "2  Action & Adventure          1962      1\n",
      "3  Action & Adventure          1963      1\n",
      "4  Action & Adventure          1967      1\n",
      "5  Action & Adventure          1968      1\n",
      "6  Action & Adventure          1971      1\n",
      "7  Action & Adventure          1972      1\n",
      "8  Action & Adventure          1973      4\n",
      "9  Action & Adventure          1975      3\n"
     ]
    }
   ],
   "source": [
    "movies_df = df[df['type'] == 'Movie'].copy()\n",
    "\n",
    "movies_df.dropna(subset=['genres', 'release_year'], inplace=True)\n",
    "\n",
    "movies_df['genres'] = movies_df['genres'].str.split(', ')\n",
    "movies_exploded = movies_df.explode('genres')\n",
    "\n",
    "genre_year_counts = movies_exploded.groupby(['genres', 'release_year']).size().reset_index(name='count')\n",
    "\n",
    "genre_year_counts.rename(columns={'genres': 'genre'}, inplace=True)\n",
    "\n",
    "print(genre_year_counts.head(10))\n"
   ]
  },
  {
   "cell_type": "markdown",
   "id": "8618162e",
   "metadata": {},
   "source": [
    "Count Movies by Genere"
   ]
  },
  {
   "cell_type": "code",
   "execution_count": null,
   "id": "a69542d8",
   "metadata": {},
   "outputs": [
    {
     "name": "stderr",
     "output_type": "stream",
     "text": [
      "C:\\Users\\NishaEzhil\\AppData\\Local\\Temp\\ipykernel_3440\\2017759766.py:17: FutureWarning: \n",
      "\n",
      "Passing `palette` without assigning `hue` is deprecated and will be removed in v0.14.0. Assign the `y` variable to `hue` and set `legend=False` for the same effect.\n",
      "\n",
      "  sns.barplot(data=genre_counts.head(15), x='Count', y='Genre', palette='viridis')\n"
     ]
    },
    {
     "data": {
      "image/png": "[encoded data removed]",
      "text/plain": [
       "<Figure size 1000x600 with 1 Axes>"
      ]
     },
     "metadata": {},
     "output_type": "display_data"
    }
   ],
   "source": [
    "movies_df = df[df['type'] == 'Movie'].copy()\n",
    "\n",
    "movies_df.dropna(subset=['genres'], inplace=True)\n",
    "\n",
    "movies_df['genres'] = movies_df['genres'].str.split(', ')\n",
    "movies_exploded = movies_df.explode('genres')\n",
    "\n",
    "genre_counts = movies_exploded['genres'].value_counts().reset_index()\n",
    "genre_counts.columns = ['Genre', 'Count']\n",
    "\n",
    "plt.figure(figsize=(10, 6))\n",
    "sns.barplot(data=genre_counts.head(15), x='Count', y='Genre', palette='viridis')\n",
    "plt.title('Number of Movies by Genre')\n",
    "plt.xlabel('Movie Count')\n",
    "plt.ylabel('Genre')\n",
    "plt.tight_layout()\n",
    "plt.show()\n"
   ]
  },
  {
   "cell_type": "markdown",
   "id": "e8a7425d",
   "metadata": {},
   "source": [
    "Count movies by Released Year"
   ]
  },
  {
   "cell_type": "code",
   "execution_count": null,
   "id": "c1fed7b1",
   "metadata": {},
   "outputs": [
    {
     "data": {
      "image/png": "[encoded data removed]",
      "text/plain": [
       "<Figure size 1200x600 with 1 Axes>"
      ]
     },
     "metadata": {},
     "output_type": "display_data"
    }
   ],
   "source": [
    "movies_df = df[df['type'] == 'Movie'].copy()\n",
    "movies_df.dropna(subset=['release_year'], inplace=True)\n",
    "\n",
    "year_counts = movies_df['release_year'].value_counts().sort_index().reset_index()\n",
    "year_counts.columns = ['Release Year', 'Movie Count']\n",
    "\n",
    "plt.figure(figsize=(12, 6))\n",
    "sns.lineplot(data=year_counts, x='Release Year', y='Movie Count', marker='o')\n",
    "plt.title('Number of Movies Released Each Year')\n",
    "plt.xlabel('Release Year')\n",
    "plt.ylabel('Movie Count')\n",
    "plt.grid(True)\n",
    "plt.tight_layout()\n",
    "plt.show()\n"
   ]
  }
 ],
 "metadata": {
  "kernelspec": {
   "display_name": "Python 3",
   "language": "python",
   "name": "python3"
  },
  "language_info": {
   "codemirror_mode": {
    "name": "ipython",
    "version": 3
   },
   "file_extension": ".py",
   "mimetype": "text/x-python",
   "name": "python",
   "nbconvert_exporter": "python",
   "pygments_lexer": "ipython3",
   "version": "3.13.2"
  }
 },
 "nbformat": 4,
 "nbformat_minor": 5
}
