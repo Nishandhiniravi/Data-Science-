{
 "cells": [
  {
   "cell_type": "markdown",
   "id": "323e68a8",
   "metadata": {},
   "source": [
    "# Image Classification with CNN "
   ]
  },
  {
   "cell_type": "code",
   "execution_count": 7,
   "id": "c581fb7d",
   "metadata": {},
   "outputs": [],
   "source": [
    "import tensorflow as tf\n",
    "from tensorflow import keras\n",
    "from tensorflow.keras import layers\n",
    "import numpy as np\n",
    "import matplotlib.pyplot as plt"
   ]
  },
  {
   "cell_type": "code",
   "execution_count": 8,
   "id": "2652106f",
   "metadata": {},
   "outputs": [
    {
     "name": "stdout",
     "output_type": "stream",
     "text": [
      "Downloading data from https://storage.googleapis.com/tensorflow/tf-keras-datasets/mnist.npz\n",
      "\u001b[1m11490434/11490434\u001b[0m \u001b[32m━━━━━━━━━━━━━━━━━━━━\u001b[0m\u001b[37m\u001b[0m \u001b[1m4s\u001b[0m 0us/step\n"
     ]
    }
   ],
   "source": [
    "(x_train, y_train), (x_test, y_test) = keras.datasets.mnist.load_data()\n",
    "# (N, 28, 28) -> (N, 28, 28, 1), scale to [0,1]\n",
    "x_train = x_train.astype(\"float32\") / 255.0\n",
    "x_test  = x_test.astype(\"float32\") / 255.0\n",
    "x_train = np.expand_dims(x_train, -1)\n",
    "x_test  = np.expand_dims(x_test, -1)\n",
    "num_classes = 10\n"
   ]
  },
  {
   "cell_type": "code",
   "execution_count": 9,
   "id": "7ed1ce60",
   "metadata": {},
   "outputs": [],
   "source": [
    "def mnist_cnn():\n",
    "    inputs = keras.Input(shape=(28, 28, 1))\n",
    "    x = layers.Conv2D(32, 3, activation=\"relu\")(inputs)\n",
    "    x = layers.Conv2D(32, 3, activation=\"relu\")(x)\n",
    "    x = layers.MaxPooling2D()(x)\n",
    "    x = layers.Dropout(0.25)(x)\n",
    "\n",
    "    x = layers.Conv2D(64, 3, activation=\"relu\")(x)\n",
    "    x = layers.Conv2D(64, 3, activation=\"relu\")(x)\n",
    "    x = layers.MaxPooling2D()(x)\n",
    "    x = layers.Dropout(0.25)(x)\n",
    "\n",
    "    x = layers.Flatten()(x)\n",
    "    x = layers.Dense(128, activation=\"relu\")(x)\n",
    "    x = layers.Dropout(0.5)(x)\n",
    "    outputs = layers.Dense(num_classes, activation=\"softmax\")(x)\n",
    "    model = keras.Model(inputs, outputs, name=\"mnist_cnn\")\n",
    "    return model\n",
    "\n",
    "model = mnist_cnn()\n",
    "model.compile(\n",
    "    optimizer=keras.optimizers.Adam(1e-3),\n",
    "    loss=\"sparse_categorical_crossentropy\",\n",
    "    metrics=[\"accuracy\"],\n",
    ")\n"
   ]
  },
  {
   "cell_type": "code",
   "execution_count": 11,
   "id": "2a50bf83",
   "metadata": {},
   "outputs": [
    {
     "name": "stdout",
     "output_type": "stream",
     "text": [
      "Epoch 1/15\n",
      "422/422 - 15s - 36ms/step - accuracy: 0.9892 - loss: 0.0342 - val_accuracy: 0.9952 - val_loss: 0.0238\n",
      "Epoch 2/15\n",
      "422/422 - 15s - 35ms/step - accuracy: 0.9906 - loss: 0.0296 - val_accuracy: 0.9932 - val_loss: 0.0277\n",
      "Epoch 3/15\n",
      "422/422 - 19s - 44ms/step - accuracy: 0.9914 - loss: 0.0283 - val_accuracy: 0.9947 - val_loss: 0.0226\n",
      "Epoch 4/15\n",
      "422/422 - 35s - 84ms/step - accuracy: 0.9921 - loss: 0.0262 - val_accuracy: 0.9953 - val_loss: 0.0202\n",
      "Epoch 5/15\n",
      "422/422 - 61s - 144ms/step - accuracy: 0.9923 - loss: 0.0240 - val_accuracy: 0.9952 - val_loss: 0.0220\n",
      "Epoch 6/15\n",
      "422/422 - 15s - 35ms/step - accuracy: 0.9924 - loss: 0.0240 - val_accuracy: 0.9948 - val_loss: 0.0249\n",
      "Epoch 7/15\n",
      "422/422 - 15s - 36ms/step - accuracy: 0.9929 - loss: 0.0238 - val_accuracy: 0.9933 - val_loss: 0.0252\n",
      "MNIST Test accuracy: 0.9949\n"
     ]
    }
   ],
   "source": [
    "callbacks = [\n",
    "    keras.callbacks.EarlyStopping(patience=3, restore_best_weights=True)\n",
    "]\n",
    "history = model.fit(\n",
    "    x_train, y_train,\n",
    "    batch_size=128, epochs=15,\n",
    "    validation_split=0.1, callbacks=callbacks, verbose=2\n",
    ")\n",
    "test_loss, test_acc = model.evaluate(x_test, y_test, verbose=0)\n",
    "print(f\"MNIST Test accuracy: {test_acc:.4f}\")\n"
   ]
  },
  {
   "cell_type": "code",
   "execution_count": null,
   "id": "8d35717e",
   "metadata": {},
   "outputs": [],
   "source": []
  }
 ],
 "metadata": {
  "kernelspec": {
   "display_name": "Python 3",
   "language": "python",
   "name": "python3"
  },
  "language_info": {
   "codemirror_mode": {
    "name": "ipython",
    "version": 3
   },
   "file_extension": ".py",
   "mimetype": "text/x-python",
   "name": "python",
   "nbconvert_exporter": "python",
   "pygments_lexer": "ipython3",
   "version": "3.13.2"
  }
 },
 "nbformat": 4,
 "nbformat_minor": 5
}
